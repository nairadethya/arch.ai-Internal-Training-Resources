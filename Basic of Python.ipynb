{
  "cells": [
    {
      "cell_type": "markdown",
      "metadata": {
        "id": "DwzWCW0VBXzZ"
      },
      "source": [
        "# Intro to datascience\n",
        "\n",
        "\n",
        "\n",
        "\n",
        "\n",
        "\n",
        "\n"
      ]
    },
    {
      "cell_type": "markdown",
      "metadata": {
        "id": "M771vQ6Mt1kB"
      },
      "source": [
        "***VARIABLES***\n",
        "\n",
        "A variable is a name given to a memory locations.It is the basic unit of storage in a program\n",
        "examples: if x =1 ,then x is a variable\n",
        "            salary =1456.8 ,salary is the variable\n",
        "            \n",
        "            \n"
      ]
    },
    {
      "cell_type": "code",
      "execution_count": null,
      "metadata": {
        "colab": {
          "base_uri": "https://localhost:8080/"
        },
        "id": "_IdNSlzfyhS9",
        "outputId": "cd19f296-793d-4c99-8751-646ce7f6da9a"
      },
      "outputs": [
        {
          "name": "stdout",
          "output_type": "stream",
          "text": [
            "100\n"
          ]
        }
      ],
      "source": [
        "Number =100 #declaring the variable(container which can stor value)\n",
        "print(Number) # displaying"
      ]
    },
    {
      "cell_type": "code",
      "execution_count": null,
      "metadata": {
        "colab": {
          "base_uri": "https://localhost:8080/"
        },
        "id": "T-_PMDwwzF2e",
        "outputId": "6c061815-667c-4e89-95bb-16268602fa49"
      },
      "outputs": [
        {
          "name": "stdout",
          "output_type": "stream",
          "text": [
            "4\n"
          ]
        }
      ],
      "source": [
        "x =1\n",
        "y =3\n",
        "print(x+y)"
      ]
    },
    {
      "cell_type": "code",
      "execution_count": null,
      "metadata": {
        "colab": {
          "base_uri": "https://localhost:8080/"
        },
        "id": "rwtNJ8fi1IQ_",
        "outputId": "475e1f70-8c9b-42bb-838b-d8c00145eade"
      },
      "outputs": [
        {
          "name": "stdout",
          "output_type": "stream",
          "text": [
            "9\n"
          ]
        }
      ],
      "source": [
        "y =8\n",
        "print(x+y)"
      ]
    },
    {
      "cell_type": "code",
      "execution_count": null,
      "metadata": {
        "colab": {
          "base_uri": "https://localhost:8080/"
        },
        "id": "uym2WRUq1l4u",
        "outputId": "e62e5f7a-84b6-4876-b271-17b7b25f64c1"
      },
      "outputs": [
        {
          "data": {
            "text/plain": [
              "17"
            ]
          },
          "execution_count": 5,
          "metadata": {},
          "output_type": "execute_result"
        }
      ],
      "source": [
        "9 + y"
      ]
    },
    {
      "cell_type": "code",
      "execution_count": null,
      "metadata": {
        "colab": {
          "base_uri": "https://localhost:8080/"
        },
        "id": "kH-AEV871rhi",
        "outputId": "bb622088-d375-4fd6-cb56-27ca15c84c0b"
      },
      "outputs": [
        {
          "data": {
            "text/plain": [
              "25"
            ]
          },
          "execution_count": 6,
          "metadata": {},
          "output_type": "execute_result"
        }
      ],
      "source": [
        "_+y #17+8"
      ]
    },
    {
      "cell_type": "code",
      "execution_count": null,
      "metadata": {
        "colab": {
          "base_uri": "https://localhost:8080/",
          "height": 35
        },
        "id": "UoUFhTgR10FR",
        "outputId": "f73d4d48-5c80-4752-e6f6-f4a1056b951d"
      },
      "outputs": [
        {
          "output_type": "execute_result",
          "data": {
            "application/vnd.google.colaboratory.intrinsic+json": {
              "type": "string"
            },
            "text/plain": [
              "'youtube'"
            ]
          },
          "metadata": {},
          "execution_count": 120
        }
      ],
      "source": [
        "name ='youtube'\n",
        "name"
      ]
    },
    {
      "cell_type": "code",
      "execution_count": null,
      "metadata": {
        "colab": {
          "base_uri": "https://localhost:8080/",
          "height": 35
        },
        "id": "MGPxVlpY2Awm",
        "outputId": "054dba19-f856-4e82-b8fa-a70ef1efb752"
      },
      "outputs": [
        {
          "data": {
            "application/vnd.google.colaboratory.intrinsic+json": {
              "type": "string"
            },
            "text/plain": [
              "'youtuberocks'"
            ]
          },
          "execution_count": 8,
          "metadata": {},
          "output_type": "execute_result"
        }
      ],
      "source": [
        "name +'rocks' #strings can be concatenated"
      ]
    },
    {
      "cell_type": "code",
      "execution_count": null,
      "metadata": {
        "colab": {
          "base_uri": "https://localhost:8080/",
          "height": 35
        },
        "id": "tUx9UZ1i2EtM",
        "outputId": "98d89f5c-98b3-4da1-d6d9-a199fb6076f6"
      },
      "outputs": [
        {
          "output_type": "execute_result",
          "data": {
            "application/vnd.google.colaboratory.intrinsic+json": {
              "type": "string"
            },
            "text/plain": [
              "'y'"
            ]
          },
          "metadata": {},
          "execution_count": 113
        }
      ],
      "source": [
        "name[0]   #finding the letters from words/string slicing"
      ]
    },
    {
      "cell_type": "code",
      "execution_count": null,
      "metadata": {
        "colab": {
          "base_uri": "https://localhost:8080/",
          "height": 35
        },
        "id": "VXaD1WdG2aDo",
        "outputId": "67c16d6c-9d1d-44ae-f0b2-03592223e242"
      },
      "outputs": [
        {
          "data": {
            "application/vnd.google.colaboratory.intrinsic+json": {
              "type": "string"
            },
            "text/plain": [
              "'e'"
            ]
          },
          "execution_count": 10,
          "metadata": {},
          "output_type": "execute_result"
        }
      ],
      "source": [
        "name[6]"
      ]
    },
    {
      "cell_type": "code",
      "execution_count": null,
      "metadata": {
        "id": "p5QnGfQ12fgZ"
      },
      "outputs": [],
      "source": [
        "name[8]"
      ]
    },
    {
      "cell_type": "code",
      "execution_count": null,
      "metadata": {
        "colab": {
          "base_uri": "https://localhost:8080/",
          "height": 35
        },
        "id": "Oz3ykQDz2npg",
        "outputId": "f038ff37-9d10-437a-bd10-7733428c1bbc"
      },
      "outputs": [
        {
          "output_type": "execute_result",
          "data": {
            "application/vnd.google.colaboratory.intrinsic+json": {
              "type": "string"
            },
            "text/plain": [
              "'ebutuoy'"
            ]
          },
          "metadata": {},
          "execution_count": 133
        }
      ],
      "source": [
        "name[::-1] #negative number start from right to left reverse the word"
      ]
    },
    {
      "cell_type": "code",
      "execution_count": null,
      "metadata": {
        "colab": {
          "base_uri": "https://localhost:8080/",
          "height": 35
        },
        "id": "oqdkuweI2q3A",
        "outputId": "f20ca9a9-9c32-45bc-e538-d6f9f1272bdb"
      },
      "outputs": [
        {
          "output_type": "execute_result",
          "data": {
            "application/vnd.google.colaboratory.intrinsic+json": {
              "type": "string"
            },
            "text/plain": [
              "'y'"
            ]
          },
          "metadata": {},
          "execution_count": 127
        }
      ],
      "source": [
        "name[-7]"
      ]
    },
    {
      "cell_type": "code",
      "execution_count": null,
      "metadata": {
        "colab": {
          "base_uri": "https://localhost:8080/",
          "height": 35
        },
        "id": "dvE5AmqCuyAU",
        "outputId": "a6ff1384-57c0-4196-a1ec-e98b7a0c0239"
      },
      "outputs": [
        {
          "data": {
            "application/vnd.google.colaboratory.intrinsic+json": {
              "type": "string"
            },
            "text/plain": [
              "'yo'"
            ]
          },
          "execution_count": 14,
          "metadata": {},
          "output_type": "execute_result"
        }
      ],
      "source": [
        "name[0:2]#ignore 2 (u is not taken into account) //exclusive of 2"
      ]
    },
    {
      "cell_type": "code",
      "execution_count": null,
      "metadata": {
        "colab": {
          "base_uri": "https://localhost:8080/",
          "height": 35
        },
        "id": "OmGYVnkLuCmo",
        "outputId": "13b9513a-4aa1-4e38-e54f-4d05f1bdb5e2"
      },
      "outputs": [
        {
          "data": {
            "application/vnd.google.colaboratory.intrinsic+json": {
              "type": "string"
            },
            "text/plain": [
              "'outube'"
            ]
          },
          "execution_count": 15,
          "metadata": {},
          "output_type": "execute_result"
        }
      ],
      "source": [
        "name[1:] #from 1 to whole word is printed"
      ]
    },
    {
      "cell_type": "code",
      "execution_count": null,
      "metadata": {
        "colab": {
          "base_uri": "https://localhost:8080/",
          "height": 35
        },
        "id": "S7YYuHHNtlCI",
        "outputId": "a7c218fa-d80a-489a-f9cd-a3b0a2a8750d"
      },
      "outputs": [
        {
          "data": {
            "application/vnd.google.colaboratory.intrinsic+json": {
              "type": "string"
            },
            "text/plain": [
              "'yout'"
            ]
          },
          "execution_count": 16,
          "metadata": {},
          "output_type": "execute_result"
        }
      ],
      "source": [
        "name[:4] # exclusive of 4"
      ]
    },
    {
      "cell_type": "code",
      "execution_count": null,
      "metadata": {
        "colab": {
          "base_uri": "https://localhost:8080/",
          "height": 35
        },
        "id": "Vi0xiWW-97ON",
        "outputId": "8bc09a7b-649c-4422-a8ac-ea832052e265"
      },
      "outputs": [
        {
          "data": {
            "application/vnd.google.colaboratory.intrinsic+json": {
              "type": "string"
            },
            "text/plain": [
              "'tube'"
            ]
          },
          "execution_count": 17,
          "metadata": {},
          "output_type": "execute_result"
        }
      ],
      "source": [
        "name[3:10] # letter from position 3 to whole is printed"
      ]
    },
    {
      "cell_type": "markdown",
      "metadata": {
        "id": "w3hY1CoR-b5b"
      },
      "source": [
        "Remarks: Strings in python is immutable"
      ]
    },
    {
      "cell_type": "code",
      "execution_count": null,
      "metadata": {
        "colab": {
          "base_uri": "https://localhost:8080/",
          "height": 35
        },
        "id": "QTgc6Ijx-k7J",
        "outputId": "699df59b-47c2-48a7-bca6-0617a203bef4"
      },
      "outputs": [
        {
          "data": {
            "application/vnd.google.colaboratory.intrinsic+json": {
              "type": "string"
            },
            "text/plain": [
              "'mytube'"
            ]
          },
          "execution_count": 18,
          "metadata": {},
          "output_type": "execute_result"
        }
      ],
      "source": [
        "'my'+name[3:]"
      ]
    },
    {
      "cell_type": "code",
      "execution_count": null,
      "metadata": {
        "colab": {
          "base_uri": "https://localhost:8080/"
        },
        "id": "9MrZ4BPn-xxl",
        "outputId": "6a189f0f-14f1-48ef-8ccd-6b5936019592"
      },
      "outputs": [
        {
          "data": {
            "text/plain": [
              "4"
            ]
          },
          "execution_count": 19,
          "metadata": {},
          "output_type": "execute_result"
        }
      ],
      "source": [
        "myname='Sona'\n",
        "len(myname)"
      ]
    },
    {
      "cell_type": "markdown",
      "metadata": {
        "id": "liSXQ_do_l8h"
      },
      "source": [
        "**LIST**\n",
        "\n",
        "\n",
        "Lists are used to store multiple items in a single variable. Lists are one of 4 built-in data types in Python used to store collections of data\n",
        "\n",
        "\n"
      ]
    },
    {
      "cell_type": "code",
      "execution_count": null,
      "metadata": {
        "colab": {
          "base_uri": "https://localhost:8080/"
        },
        "id": "dAMtm7tzAsY7",
        "outputId": "e8a65f15-9b51-4916-f950-0ec156852d06"
      },
      "outputs": [
        {
          "output_type": "execute_result",
          "data": {
            "text/plain": [
              "[1, 2, 3, 4, 9]"
            ]
          },
          "metadata": {},
          "execution_count": 5
        }
      ],
      "source": [
        "#list-group,numbers,strings\n",
        "nums =[1,2,3,4,9]\n",
        "nums"
      ]
    },
    {
      "cell_type": "code",
      "execution_count": null,
      "metadata": {
        "colab": {
          "base_uri": "https://localhost:8080/"
        },
        "id": "SLuWzn88AplJ",
        "outputId": "e3106dd0-10c4-4411-9ca6-8b5b4e0d594d"
      },
      "outputs": [
        {
          "output_type": "execute_result",
          "data": {
            "text/plain": [
              "1"
            ]
          },
          "metadata": {},
          "execution_count": 135
        }
      ],
      "source": [
        "nums[0] # similarly as string"
      ]
    },
    {
      "cell_type": "code",
      "execution_count": null,
      "metadata": {
        "colab": {
          "base_uri": "https://localhost:8080/"
        },
        "id": "a2Fn9qANBgNA",
        "outputId": "f44d9da0-844c-4052-e4d8-0e5749c46444"
      },
      "outputs": [
        {
          "output_type": "execute_result",
          "data": {
            "text/plain": [
              "[1, 2, 4, 9]"
            ]
          },
          "metadata": {},
          "execution_count": 136
        }
      ],
      "source": [
        "nums.remove(3)\n",
        "nums"
      ]
    },
    {
      "cell_type": "code",
      "execution_count": null,
      "metadata": {
        "colab": {
          "base_uri": "https://localhost:8080/"
        },
        "id": "foncsm71C1Ox",
        "outputId": "45a423cf-fc70-49db-8a57-a10432acedf6"
      },
      "outputs": [
        {
          "output_type": "execute_result",
          "data": {
            "text/plain": [
              "[9]"
            ]
          },
          "metadata": {},
          "execution_count": 4
        }
      ],
      "source": [
        "nums[-1:]"
      ]
    },
    {
      "cell_type": "code",
      "execution_count": null,
      "metadata": {
        "id": "v_pys4LADVLx"
      },
      "outputs": [],
      "source": [
        "Values=[9.5,'Navin',25]\n",
        "mil = [nums,Values]"
      ]
    },
    {
      "cell_type": "code",
      "execution_count": null,
      "metadata": {
        "colab": {
          "base_uri": "https://localhost:8080/"
        },
        "id": "fgLlHRLtFhGw",
        "outputId": "80c795c7-794e-47f2-8f58-338bd8cc380c"
      },
      "outputs": [
        {
          "output_type": "execute_result",
          "data": {
            "text/plain": [
              "[[1, 2, 4, 9], [9.5, 'Navin', 25]]"
            ]
          },
          "metadata": {},
          "execution_count": 139
        }
      ],
      "source": [
        "mil #lists in a list"
      ]
    },
    {
      "cell_type": "code",
      "execution_count": null,
      "metadata": {
        "colab": {
          "base_uri": "https://localhost:8080/"
        },
        "id": "8nzJLSQZFwj8",
        "outputId": "8fa75c58-6e63-49b1-8f12-ecca9ed92b0b"
      },
      "outputs": [
        {
          "output_type": "execute_result",
          "data": {
            "text/plain": [
              "[1, 2, 4, 9, 6]"
            ]
          },
          "metadata": {},
          "execution_count": 140
        }
      ],
      "source": [
        "nums.append(6) # add at the end\n",
        "nums"
      ]
    },
    {
      "cell_type": "code",
      "execution_count": null,
      "metadata": {
        "colab": {
          "base_uri": "https://localhost:8080/"
        },
        "id": "BLVkPn1PGM7x",
        "outputId": "022e37f2-32c6-4422-f3cc-cf1e54378872"
      },
      "outputs": [
        {
          "output_type": "execute_result",
          "data": {
            "text/plain": [
              "[1, 2, 4, 4, 9, 6]"
            ]
          },
          "metadata": {},
          "execution_count": 141
        }
      ],
      "source": [
        "nums.insert(2,4) #index,data\n",
        "nums"
      ]
    },
    {
      "cell_type": "code",
      "execution_count": null,
      "metadata": {
        "id": "mbm24_XMId9u"
      },
      "outputs": [],
      "source": [
        "\n",
        "nums"
      ]
    },
    {
      "cell_type": "code",
      "execution_count": null,
      "metadata": {
        "id": "1mPUHFOXJTTv",
        "colab": {
          "base_uri": "https://localhost:8080/"
        },
        "outputId": "312f835f-c1d7-4a53-824b-405b243d65b2"
      },
      "outputs": [
        {
          "output_type": "execute_result",
          "data": {
            "text/plain": [
              "[2]"
            ]
          },
          "metadata": {},
          "execution_count": 7
        }
      ],
      "source": [
        "del nums[1:]\n",
        "nums\n"
      ]
    },
    {
      "cell_type": "code",
      "execution_count": null,
      "metadata": {
        "colab": {
          "base_uri": "https://localhost:8080/"
        },
        "id": "AbAW0p8LJZrq",
        "outputId": "84a4f4c0-5ffc-494e-fa12-f8a29ee80eb9"
      },
      "outputs": [
        {
          "output_type": "execute_result",
          "data": {
            "text/plain": [
              "1"
            ]
          },
          "metadata": {},
          "execution_count": 6
        }
      ],
      "source": [
        "nums.pop(0)"
      ]
    },
    {
      "cell_type": "markdown",
      "metadata": {
        "id": "tWU7FNsxd3IW"
      },
      "source": [
        "**Tuple and Set**\n",
        "\n",
        "Tuple is a collection of values seperated by comma and enclosed in parenthesis.\n",
        "\n",
        "Set is an unordered collection of distinct immutable objects.A set contains unique elements.Although sets are mutable,the elements of sets must be immutable.\n"
      ]
    },
    {
      "cell_type": "code",
      "source": [
        "tup =(21,36,14,25) #tuples value can't be changed\n"
      ],
      "metadata": {
        "id": "F4tsNTANrM-j"
      },
      "execution_count": null,
      "outputs": []
    },
    {
      "cell_type": "code",
      "source": [
        "tup[1] "
      ],
      "metadata": {
        "colab": {
          "base_uri": "https://localhost:8080/"
        },
        "id": "IFgvSQ91rsRc",
        "outputId": "ff61c5e3-ba90-405a-dc3e-bf10cdcb4f8b"
      },
      "execution_count": null,
      "outputs": [
        {
          "output_type": "execute_result",
          "data": {
            "text/plain": [
              "36"
            ]
          },
          "metadata": {},
          "execution_count": 56
        }
      ]
    },
    {
      "cell_type": "code",
      "source": [
        "tup.index # want certain values without changing"
      ],
      "metadata": {
        "colab": {
          "base_uri": "https://localhost:8080/"
        },
        "id": "azFg2Jxlr4GJ",
        "outputId": "b3454714-fa76-467d-a847-e2bcada684d8"
      },
      "execution_count": null,
      "outputs": [
        {
          "output_type": "execute_result",
          "data": {
            "text/plain": [
              "<function tuple.index>"
            ]
          },
          "metadata": {},
          "execution_count": 57
        }
      ]
    },
    {
      "cell_type": "code",
      "source": [
        "s={22,25,14,21,5} #sorted no ascending or descending values(unique values)\n",
        "s\n"
      ],
      "metadata": {
        "colab": {
          "base_uri": "https://localhost:8080/"
        },
        "id": "TPS_Jzi0sP7S",
        "outputId": "a57ffa1b-6c73-476a-c197-b40ea72c045e"
      },
      "execution_count": null,
      "outputs": [
        {
          "output_type": "execute_result",
          "data": {
            "text/plain": [
              "{5, 14, 21, 22, 25}"
            ]
          },
          "metadata": {},
          "execution_count": 58
        }
      ]
    },
    {
      "cell_type": "markdown",
      "source": [
        "**DICTIONARY**\n",
        "\n",
        "A dictionary in python is an unordered and mutable python container that stores mapping of unique keys to values"
      ],
      "metadata": {
        "id": "ajSW-Ue9yVg3"
      }
    },
    {
      "cell_type": "code",
      "source": [
        "data ={1:\"Navin\",2:\"Kiran\",4:\"Harsh\"} #examples of dictionary are normal dictionary ,phonebook\n",
        "data"
      ],
      "metadata": {
        "id": "u02a9qSry0ce",
        "colab": {
          "base_uri": "https://localhost:8080/"
        },
        "outputId": "4939cf9f-46cc-4195-b0f5-360792070f13"
      },
      "execution_count": null,
      "outputs": [
        {
          "output_type": "execute_result",
          "data": {
            "text/plain": [
              "{1: 'Navin', 2: 'Kiran', 4: 'Harsh'}"
            ]
          },
          "metadata": {},
          "execution_count": 60
        }
      ]
    },
    {
      "cell_type": "code",
      "source": [
        "data[4]"
      ],
      "metadata": {
        "colab": {
          "base_uri": "https://localhost:8080/",
          "height": 35
        },
        "id": "S-v9RlyaCvt8",
        "outputId": "6c1fd4c9-e0ee-40ba-f7ea-5811d40a103b"
      },
      "execution_count": null,
      "outputs": [
        {
          "output_type": "execute_result",
          "data": {
            "application/vnd.google.colaboratory.intrinsic+json": {
              "type": "string"
            },
            "text/plain": [
              "'Harsh'"
            ]
          },
          "metadata": {},
          "execution_count": 61
        }
      ]
    },
    {
      "cell_type": "code",
      "source": [
        "data.get(3) # no keys are there"
      ],
      "metadata": {
        "id": "TE2l8P1nCVsx"
      },
      "execution_count": null,
      "outputs": []
    },
    {
      "cell_type": "code",
      "source": [
        "print(data.get(3))"
      ],
      "metadata": {
        "colab": {
          "base_uri": "https://localhost:8080/"
        },
        "id": "A7zInAbqDi0p",
        "outputId": "79fc3c92-e409-48e4-96d3-85e792d4a832"
      },
      "execution_count": null,
      "outputs": [
        {
          "output_type": "stream",
          "name": "stdout",
          "text": [
            "None\n"
          ]
        }
      ]
    },
    {
      "cell_type": "code",
      "source": [
        "data.get(1,\"Not Found\")"
      ],
      "metadata": {
        "colab": {
          "base_uri": "https://localhost:8080/",
          "height": 35
        },
        "id": "FnVjgQFuEUZZ",
        "outputId": "ecbb7550-ae96-41df-83ad-3d7318c18d10"
      },
      "execution_count": null,
      "outputs": [
        {
          "output_type": "execute_result",
          "data": {
            "application/vnd.google.colaboratory.intrinsic+json": {
              "type": "string"
            },
            "text/plain": [
              "'Navin'"
            ]
          },
          "metadata": {},
          "execution_count": 64
        }
      ]
    },
    {
      "cell_type": "code",
      "source": [
        "data.get(3,\"Not Found\")"
      ],
      "metadata": {
        "colab": {
          "base_uri": "https://localhost:8080/",
          "height": 35
        },
        "id": "ZBfF6SZ_EUdh",
        "outputId": "f7a324df-5f5d-49d3-e048-ba8f0e4e3b2b"
      },
      "execution_count": null,
      "outputs": [
        {
          "output_type": "execute_result",
          "data": {
            "application/vnd.google.colaboratory.intrinsic+json": {
              "type": "string"
            },
            "text/plain": [
              "'Not Found'"
            ]
          },
          "metadata": {},
          "execution_count": 65
        }
      ]
    },
    {
      "cell_type": "code",
      "source": [
        "keys = ['navin','kiran','harsh']\n",
        "values = ['Python','java','js']"
      ],
      "metadata": {
        "id": "qSYj7VZXEl_R"
      },
      "execution_count": null,
      "outputs": []
    },
    {
      "cell_type": "code",
      "source": [
        "data =dict(zip(keys,values))\n",
        "data"
      ],
      "metadata": {
        "colab": {
          "base_uri": "https://localhost:8080/"
        },
        "id": "80zDXUbrE8fH",
        "outputId": "534eb162-93c0-438f-cb7b-71ed56405d46"
      },
      "execution_count": null,
      "outputs": [
        {
          "output_type": "execute_result",
          "data": {
            "text/plain": [
              "{'harsh': 'js', 'kiran': 'java', 'navin': 'Python'}"
            ]
          },
          "metadata": {},
          "execution_count": 67
        }
      ]
    },
    {
      "cell_type": "code",
      "source": [
        "data['kiran']\n"
      ],
      "metadata": {
        "colab": {
          "base_uri": "https://localhost:8080/",
          "height": 35
        },
        "id": "3iMmcTgaFHb5",
        "outputId": "ad4d94d7-a8d2-4085-eb2a-79b645e665a3"
      },
      "execution_count": null,
      "outputs": [
        {
          "output_type": "execute_result",
          "data": {
            "application/vnd.google.colaboratory.intrinsic+json": {
              "type": "string"
            },
            "text/plain": [
              "'java'"
            ]
          },
          "metadata": {},
          "execution_count": 68
        }
      ]
    },
    {
      "cell_type": "code",
      "source": [
        "data['monika'] ='cs'  #adding data\n",
        "data"
      ],
      "metadata": {
        "colab": {
          "base_uri": "https://localhost:8080/"
        },
        "id": "6Wmqc6ulFPHZ",
        "outputId": "48ea1dce-9e4a-4f73-d3dd-8973e79917c0"
      },
      "execution_count": null,
      "outputs": [
        {
          "output_type": "execute_result",
          "data": {
            "text/plain": [
              "{'harsh': 'js', 'kiran': 'java', 'monika': 'cs', 'navin': 'Python'}"
            ]
          },
          "metadata": {},
          "execution_count": 70
        }
      ]
    },
    {
      "cell_type": "code",
      "source": [
        "del data['harsh']\n",
        "data"
      ],
      "metadata": {
        "colab": {
          "base_uri": "https://localhost:8080/"
        },
        "id": "eQAiij9FFY5n",
        "outputId": "b396c0fb-723f-4858-a00a-a4c47aea31f9"
      },
      "execution_count": null,
      "outputs": [
        {
          "output_type": "execute_result",
          "data": {
            "text/plain": [
              "{'kiran': 'java', 'monika': 'cs', 'navin': 'Python'}"
            ]
          },
          "metadata": {},
          "execution_count": 71
        }
      ]
    },
    {
      "cell_type": "code",
      "source": [
        "prog ={'js':'atom','cs':'vs','python':['pycharm','sublime'],'java':{'jse': 'netbeans','JEE':'eclipse'}}"
      ],
      "metadata": {
        "id": "DMPpuwM_Fdo5"
      },
      "execution_count": null,
      "outputs": []
    },
    {
      "cell_type": "code",
      "source": [
        "prog['python'][1]"
      ],
      "metadata": {
        "colab": {
          "base_uri": "https://localhost:8080/",
          "height": 35
        },
        "id": "3HJ_I-ZJGzad",
        "outputId": "e8e95b53-f5fd-4bb9-81c6-097bc7db1a1c"
      },
      "execution_count": null,
      "outputs": [
        {
          "output_type": "execute_result",
          "data": {
            "application/vnd.google.colaboratory.intrinsic+json": {
              "type": "string"
            },
            "text/plain": [
              "'sublime'"
            ]
          },
          "metadata": {},
          "execution_count": 73
        }
      ]
    },
    {
      "cell_type": "code",
      "source": [
        "prog['java']['JEE']"
      ],
      "metadata": {
        "colab": {
          "base_uri": "https://localhost:8080/",
          "height": 35
        },
        "id": "d9qXdQR5G7vN",
        "outputId": "27ac341e-2c38-4e50-bc7a-f94ab927c5cb"
      },
      "execution_count": null,
      "outputs": [
        {
          "output_type": "execute_result",
          "data": {
            "application/vnd.google.colaboratory.intrinsic+json": {
              "type": "string"
            },
            "text/plain": [
              "'eclipse'"
            ]
          },
          "metadata": {},
          "execution_count": 75
        }
      ]
    },
    {
      "cell_type": "markdown",
      "metadata": {
        "id": "QE0RdL6yzdNr"
      },
      "source": [
        "### If - elif - else\n",
        "\n",
        "The if…elif…else statement is used in Python for decision making. Such a decision making involves execution of a code when certain condition evaluates to True. We can demonstrate the flow of if statements using a flow chart.\n",
        "\n",
        "<img src=\"https://cdn.programiz.com/sites/tutorial2program/files/Python_if_else_statement.jpg\" >\n",
        "\n",
        "Credits : Programiz\n",
        "\n",
        "\n",
        "\n",
        "\n",
        "\n"
      ]
    },
    {
      "cell_type": "code",
      "execution_count": null,
      "metadata": {
        "colab": {
          "base_uri": "https://localhost:8080/"
        },
        "id": "HYWwMaU3yPU_",
        "outputId": "cfd1e6c8-326c-4042-d22d-1dafcc17a370"
      },
      "outputs": [
        {
          "name": "stdout",
          "output_type": "stream",
          "text": [
            "Enter your number: 46\n",
            "The number is even\n"
          ]
        }
      ],
      "source": [
        "# program to find whether a number accepted from user input is odd or even\n",
        "num = int(input(\"Enter your number: \"))\n",
        "if num%2 == 0:\n",
        "  print(\"The number is even\")\n",
        "else:\n",
        "  print(\"The number is odd\")"
      ]
    },
    {
      "cell_type": "markdown",
      "metadata": {
        "id": "0qunDEtL57Tx"
      },
      "source": [
        "In python 'elif' stands for 'else if'. The statements under elif are checked soon after the if statement evaluates to false. Further, it moves to the else statement only if elif statement evaluates to false.\n",
        "\n",
        "<img src=\"https://cdn.programiz.com/sites/tutorial2program/files/Python_if_elif_else_statement.jpg\">\n",
        "\n",
        "Credits : Programiz"
      ]
    },
    {
      "cell_type": "code",
      "execution_count": null,
      "metadata": {
        "colab": {
          "base_uri": "https://localhost:8080/"
        },
        "id": "gQqQySKGkttt",
        "outputId": "05f18f34-7c05-46ed-a321-7024c4d40a90"
      },
      "outputs": [
        {
          "name": "stdout",
          "output_type": "stream",
          "text": [
            "Enter your number: 23\n",
            "The number is positive\n"
          ]
        }
      ],
      "source": [
        "# program to find whether a number accepted from user input is positive, negetive or zero\n",
        "num = int(input(\"Enter your number: \"))\n",
        "if num > 0:\n",
        "  print(\"The number is positive\")\n",
        "elif num == 0:\n",
        "  print(\"The number is zero (neither positive nor negetive)\")\n",
        "else:\n",
        "  print(\"The number is negetive\")"
      ]
    },
    {
      "cell_type": "code",
      "execution_count": null,
      "metadata": {
        "id": "C0j9CxZe5ygS"
      },
      "outputs": [],
      "source": []
    },
    {
      "cell_type": "markdown",
      "metadata": {
        "id": "BcocaJSFBveV"
      },
      "source": [
        "### 'for' loops\n",
        "\n",
        "For loops in Python are used to iterate over a sequence (list, tuple, string) or other iterable objects.\n",
        "\n",
        "```\n",
        "for val in sequence:\n",
        "\tbody \n",
        "```\n",
        "\n",
        "<img src=\"https://cdn.programiz.com/sites/tutorial2program/files/forLoop.jpg\">\n",
        "\n",
        "Credits : Programiz"
      ]
    },
    {
      "cell_type": "code",
      "execution_count": null,
      "metadata": {
        "colab": {
          "base_uri": "https://localhost:8080/"
        },
        "id": "CL8_R9iABvOA",
        "outputId": "ca1d403a-a2c5-418c-9cb1-31ec9143d230"
      },
      "outputs": [
        {
          "name": "stdout",
          "output_type": "stream",
          "text": [
            "Number of elements in lis is: 16\n",
            "Number of elements in lis using len() is: 16\n"
          ]
        }
      ],
      "source": [
        "# program to find the number of elements in a list using for loop\n",
        "lis = [2,3,4,1,5,8,3,4,5,2,4,5,6,7,8,9]\n",
        "count = 0 \n",
        "for i in lis:\n",
        "  count = count + 1\n",
        "print(\"Number of elements in lis is:\", count)\n",
        "\n",
        "# one can simply write this program by means of inbuilt python function len()\n",
        "print(\"Number of elements in lis using len() is:\", len(lis))"
      ]
    },
    {
      "cell_type": "code",
      "execution_count": null,
      "metadata": {
        "id": "fG7DQBTK9DZN",
        "colab": {
          "base_uri": "https://localhost:8080/"
        },
        "outputId": "bd29b030-27e1-4458-8262-0e9eb3e77b90"
      },
      "outputs": [
        {
          "output_type": "stream",
          "name": "stdout",
          "text": [
            "Number of even numbers : 3\n",
            "Number of odd numbers : 3\n"
          ]
        }
      ],
      "source": [
        "# Exercise \n",
        "# Write a program that counts the numbers of odd and even number count separately\n",
        "# <code along session>\n",
        "numbers = [1,2,3,4,5,6]\n",
        "count_odd=0\n",
        "count_even=0\n",
        "for x in numbers:\n",
        "       if not x %2 :\n",
        "         count_even+=1\n",
        "       else:\n",
        "         count_odd+=1\n",
        "print(\"Number of even numbers :\",count_even)\n",
        "print(\"Number of odd numbers :\",count_odd)"
      ]
    },
    {
      "cell_type": "code",
      "execution_count": null,
      "metadata": {
        "id": "lKZS2zw-FWJ0"
      },
      "outputs": [],
      "source": [
        "# Exercise (Self-reference)\n",
        "# Write a program that calculates the mean and standard deviation of a list of numbers\n",
        "# <code along session>"
      ]
    },
    {
      "cell_type": "markdown",
      "metadata": {
        "id": "yEB19Kn2HjVN"
      },
      "source": [
        "Range function\n",
        "\n",
        "The range() function in python can be used to generate a sequence of numbers. The function takes the general form\n",
        "```\n",
        "range(start, stop,step_size).\n",
        "```\n"
      ]
    },
    {
      "cell_type": "code",
      "execution_count": null,
      "metadata": {
        "colab": {
          "base_uri": "https://localhost:8080/"
        },
        "id": "nLKVjhIFGM76",
        "outputId": "f0389813-bdc2-4ed8-9c06-a2912e4d08c8"
      },
      "outputs": [
        {
          "name": "stdout",
          "output_type": "stream",
          "text": [
            "[0, 1, 2, 3, 4, 5, 6, 7, 8, 9]\n",
            "[2, 3, 4, 5, 6, 7, 8, 9]\n",
            "[1, 4, 7]\n",
            "[10, 9, 8, 7, 6, 5, 4, 3, 2]\n"
          ]
        }
      ],
      "source": [
        "# With just the stop parameter specified it creates a sequence of numbers from 0 to 9 (note 10 is not included)\n",
        "print(list(range(10))) # stop # by default start - 0\n",
        "# With start and stop specified it prints a sequence of integers in the range [start,stop)\n",
        "print(list(range(2,10)))\n",
        "# We can also choose to specify the step value or the steps by which the sequence should increment or decrement\n",
        "print(list(range(1,10,3)))\n",
        "# Printing reverse sequence\n",
        "print(list(range(10,1,-1)))"
      ]
    },
    {
      "cell_type": "code",
      "execution_count": null,
      "metadata": {
        "id": "mvgrChzh4EsL"
      },
      "outputs": [],
      "source": [
        "# using range with for loop\n",
        "# write a program to print the elements of a list at even indices\n",
        "# <code along session>\n"
      ]
    },
    {
      "cell_type": "code",
      "execution_count": null,
      "metadata": {
        "id": "JvccjKBI61Sp"
      },
      "outputs": [],
      "source": [
        "# Exersise\n",
        "# Try to print the elements of the list in the reverse order using range()\n",
        "# <code along session>\n"
      ]
    },
    {
      "cell_type": "markdown",
      "metadata": {
        "id": "yTtDtXHM71rL"
      },
      "source": [
        "### 'while' loops\n",
        "The while loop in Python is used to iterate over a block of code as long as the test expression (condition) is true. We generally use while loops when we are unaware of the number of times we will have to iterate through a codeblock. \n",
        "```\n",
        "while test_expression:\n",
        "    Body of while\n",
        "```\n",
        "<img src=\"https://cdn.programiz.com/sites/tutorial2program/files/whileLoopFlowchart.jpg\" >\n",
        "\n",
        "\n",
        "Credits: Google Images, Programiz"
      ]
    },
    {
      "cell_type": "markdown",
      "metadata": {
        "id": "Juar_2hMg6Fk"
      },
      "source": [
        "A Sample program working\n",
        "\n",
        "<img src=\"https://blog.penjee.com/wp-content/uploads/2015/03/while-loop-animation-python.gif\"/>"
      ]
    },
    {
      "cell_type": "code",
      "execution_count": null,
      "metadata": {
        "id": "F61H537n7rZI"
      },
      "outputs": [],
      "source": [
        "# write a program to find the number of digits in a number \n",
        "# 3456 - 4\n",
        "# There is an error here can you find out\n",
        "num = int(input(\"Enter the number: \"))\n",
        "count = 0\n",
        "\n",
        "while num > 0:\n",
        "  num = num/10 \n",
        "  count +=1 \n",
        "  print(num)\n",
        "\n",
        "print(\"The number of digits in the number is :\", count)"
      ]
    },
    {
      "cell_type": "code",
      "execution_count": null,
      "metadata": {
        "cellView": "code",
        "id": "JkCYYan1AG7F"
      },
      "outputs": [],
      "source": [
        "# Exercise\n",
        "# Try to implement all the program we discussed in the for loop section using while loop\n",
        "# <code along session>"
      ]
    },
    {
      "cell_type": "markdown",
      "metadata": {
        "id": "7Rw4EUUiDBkR"
      },
      "source": [
        "### Break and Continue\n",
        "The break statement terminates the loop containing it. Control of the program flows to the statement immediately after the body of the loop.\n",
        "\n",
        "The continue statement is used to skip the rest of the code inside a loop for the current iteration only.\n",
        "\n",
        "\n",
        "<!-- <p float=\"left\"> -->\n",
        "<img src=\"https://cdn.programiz.com/sites/tutorial2program/files/how-break-statement-works.jpg\">\n",
        "<img src=\"https://cdn.programiz.com/sites/tutorial2program/files/how-continue-statment-works.jpg\">\n",
        "<!-- </p> -->\n",
        "\n",
        "Credits : Programiz"
      ]
    },
    {
      "cell_type": "code",
      "execution_count": null,
      "metadata": {
        "colab": {
          "base_uri": "https://localhost:8080/"
        },
        "id": "Aoo9ZKU9C0Fo",
        "outputId": "6a6552b6-f72b-4d75-ac48-7995f199334f"
      },
      "outputs": [
        {
          "name": "stdout",
          "output_type": "stream",
          "text": [
            "The first even integer is 6\n"
          ]
        }
      ],
      "source": [
        "# use of break statements\n",
        "# write a program that prints the first even integer in a list of integer numbers\n",
        "integers = [1,3,11,5,6,7]\n",
        "\n",
        "for i in integers:\n",
        "  if i%2 == 0:\n",
        "    break\n",
        "\n",
        "print(\"The first even integer is\",i)\n"
      ]
    },
    {
      "cell_type": "code",
      "execution_count": null,
      "metadata": {
        "colab": {
          "base_uri": "https://localhost:8080/"
        },
        "id": "gwstMuU5OFdd",
        "outputId": "df996793-95f9-4a2a-ac97-379271824a45"
      },
      "outputs": [
        {
          "name": "stdout",
          "output_type": "stream",
          "text": [
            "1 11 5 7 "
          ]
        }
      ],
      "source": [
        "# use of continue statements\n",
        "# Write a program to print all elements in the list specified in the previous question except multiples of 3\n",
        "# < Code along >\n"
      ]
    },
    {
      "cell_type": "markdown",
      "metadata": {
        "id": "mSNtg17VSL56"
      },
      "source": [
        "## Functions \n",
        "Named part of a program consisting of a group of related statements.\n",
        "```\n",
        "def function_name(parameters):\n",
        "\t\"\"\"docstring\"\"\"\n",
        "\tbody of function\n",
        "```\n",
        "A function is essential specified by a 'def' keyword followed by a unique function name. It can optionally accept arguments in the form of parameters and can include a docstring to describe the function. The body is the most important part in a function consisting of a set of valid statements. It can optionally end with a return statement "
      ]
    },
    {
      "cell_type": "code",
      "execution_count": null,
      "metadata": {
        "id": "e-J-OJwJR9xZ"
      },
      "outputs": [],
      "source": [
        "# Function in action\n",
        "# function definition\n",
        "def greet(username):\n",
        "  \"\"\"\n",
        "  A function to greet the participants of\n",
        "  Python for beginners\n",
        "  \"\"\"\n",
        "  print(\"Welcome\", username, \"to Python For Beginners, Day 2\")"
      ]
    },
    {
      "cell_type": "code",
      "execution_count": null,
      "metadata": {
        "colab": {
          "base_uri": "https://localhost:8080/"
        },
        "id": "_8MkqEz3iKiE",
        "outputId": "79dba7e3-1820-49b7-8c67-b87d1185de66"
      },
      "outputs": [
        {
          "output_type": "stream",
          "name": "stdout",
          "text": [
            "Welcome Vishnu to Python For Beginners, Day 2\n",
            "Welcome Anagha to Python For Beginners, Day 2\n",
            "Welcome Ram to Python For Beginners, Day 2\n"
          ]
        }
      ],
      "source": [
        "# calling the function\n",
        "greet(\"Vishnu\")\n",
        "greet(\"Anagha\")\n",
        "greet(\"Ram\")"
      ]
    },
    {
      "cell_type": "code",
      "execution_count": null,
      "metadata": {
        "colab": {
          "base_uri": "https://localhost:8080/"
        },
        "id": "AEI7p9QRiVxF",
        "outputId": "afc2338a-0178-4dde-c770-f96687af90ab"
      },
      "outputs": [
        {
          "output_type": "stream",
          "name": "stdout",
          "text": [
            "\n",
            "  A function to greet the participants of\n",
            "  Python for beginners\n",
            "  \n"
          ]
        }
      ],
      "source": [
        "# accesing the docstring\n",
        "print(greet.__doc__)\n",
        "# fnname.__doc__"
      ]
    },
    {
      "cell_type": "code",
      "execution_count": null,
      "metadata": {
        "colab": {
          "base_uri": "https://localhost:8080/"
        },
        "id": "mkrRBJ14ihOr",
        "outputId": "014a3328-1f83-4867-e76c-f3c4757bc012"
      },
      "outputs": [
        {
          "name": "stdout",
          "output_type": "stream",
          "text": [
            "78\n"
          ]
        }
      ],
      "source": [
        "# Write a function that implements the inbuilt max function in python for a list of numbers\n",
        "# usage of max\n",
        "# print(max([2,7,4,3])) \n",
        "# user defined max function\n",
        "# <code along session>\n"
      ]
    },
    {
      "cell_type": "code",
      "execution_count": null,
      "metadata": {
        "id": "RtPWRt_U5Jj5"
      },
      "outputs": [],
      "source": [
        "# Exercise \n",
        "# Write a python function to count the number of vowels in a string\n",
        "# <code along session>  \n"
      ]
    },
    {
      "cell_type": "code",
      "execution_count": null,
      "metadata": {
        "id": "tjljzyCi5sgT"
      },
      "outputs": [],
      "source": [
        "# Exercise \n",
        "# Write a python function print the nth fibinocci number (1,1,2,3,5,8,13,21)\n"
      ]
    }
  ],
  "metadata": {
    "colab": {
      "provenance": []
    },
    "kernelspec": {
      "display_name": "Python 3",
      "name": "python3"
    }
  },
  "nbformat": 4,
  "nbformat_minor": 0
}