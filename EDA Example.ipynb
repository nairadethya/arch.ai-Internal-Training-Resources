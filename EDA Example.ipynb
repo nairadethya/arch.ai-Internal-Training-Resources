{
  "nbformat": 4,
  "nbformat_minor": 0,
  "metadata": {
    "colab": {
      "provenance": []
    },
    "kernelspec": {
      "name": "python3",
      "display_name": "Python 3"
    }
  },
  "cells": [
    {
      "cell_type": "markdown",
      "metadata": {
        "id": "0kmxX9geP2hn"
      },
      "source": [
        "# **TV shows on Netflix, Prime Video, Hulu and Disney+ : A Data Analysis**\n",
        "## **Content**\n",
        "\n",
        "The data scraped comprises a comprehensive list of tv shows available on various streaming platforms\n",
        "\n",
        "## **Aim**\n",
        "To find the best streaming platform from Netflix, Prime Video, Hulu and Disney+\n",
        "\n",
        "## **Inspiration**\n",
        "\n",
        "1) Which streaming platform(s) can I find this tv show on?\n",
        "\n",
        "2) IMDb ratings of a tv show?\n",
        "\n",
        "3) Target age group tv shows vs the streaming application they can be found on\n",
        "\n",
        "4) The year during which a tv show was produced and the streaming \n",
        "platform they can be found on"
      ]
    },
    {
      "cell_type": "code",
      "metadata": {
        "id": "wLsFdenym458"
      },
      "source": [
        "from google.colab import drive\n",
        "drive.mount('/content/drive')"
      ],
      "execution_count": null,
      "outputs": []
    },
    {
      "cell_type": "code",
      "metadata": {
        "id": "afSWWG-yCvNG"
      },
      "source": [
        "import opendatasets as od\n",
        "dataset_url = 'https://www.kaggle.com/ruchi798/tv-shows-on-netflix-prime-video-hulu-and-disney'\n",
        "od.download(dataset_url)"
      ],
      "execution_count": null,
      "outputs": []
    },
    {
      "cell_type": "code",
      "metadata": {
        "id": "Io1AePBonZO_"
      },
      "source": [
        "import pandas as pd\n",
        "import numpy as np\n",
        "import seaborn as sns\n",
        "import matplotlib.pyplot as plt\n",
        "\n",
        "%matplotlib inline"
      ],
      "execution_count": null,
      "outputs": []
    },
    {
      "cell_type": "code",
      "metadata": {
        "id": "MQG6uvcUoHwW"
      },
      "source": [
        "df = pd.read_csv('/content/drive/MyDrive/project eda/tv_shows.csv')\n",
        "df.head()"
      ],
      "execution_count": null,
      "outputs": []
    },
    {
      "cell_type": "markdown",
      "metadata": {
        "id": "3PhxwS74Q-Rr"
      },
      "source": [
        "# Understaing the data."
      ]
    },
    {
      "cell_type": "code",
      "metadata": {
        "id": "9-b2GeNboVSG"
      },
      "source": [
        "df.shape"
      ],
      "execution_count": null,
      "outputs": []
    },
    {
      "cell_type": "code",
      "metadata": {
        "id": "vrDWmBivo_D7"
      },
      "source": [
        "df.info()"
      ],
      "execution_count": null,
      "outputs": []
    },
    {
      "cell_type": "code",
      "metadata": {
        "id": "jQMJXfiZuS0z"
      },
      "source": [
        "df['type'].value_counts()"
      ],
      "execution_count": null,
      "outputs": []
    },
    {
      "cell_type": "markdown",
      "metadata": {
        "id": "P2SwucGTReSf"
      },
      "source": [
        "## **Observation**\n",
        "1)Data missing in the IMDb, Age and Rotten Tomatoes\n",
        "\n",
        "2)The data only contain single type of data, TV Shows "
      ]
    },
    {
      "cell_type": "markdown",
      "metadata": {
        "id": "aelT9I7dRWXf"
      },
      "source": [
        "# Filling the Missing Data"
      ]
    },
    {
      "cell_type": "code",
      "metadata": {
        "id": "1wVFYlJepxX0"
      },
      "source": [
        "df['Age'].value_counts()"
      ],
      "execution_count": null,
      "outputs": []
    },
    {
      "cell_type": "markdown",
      "metadata": {
        "id": "gWO9nrzCSRJe"
      },
      "source": [
        "Most of the TV Shows are 16+. So assuming the missing values is the same"
      ]
    },
    {
      "cell_type": "code",
      "metadata": {
        "id": "Z5fF436bqUay"
      },
      "source": [
        "df['Age'].fillna(value = '16+', inplace = True)\n"
      ],
      "execution_count": null,
      "outputs": []
    },
    {
      "cell_type": "code",
      "metadata": {
        "id": "Z7ARzZsar86A"
      },
      "source": [
        "df['IMDb'].describe().to_frame()"
      ],
      "execution_count": null,
      "outputs": []
    },
    {
      "cell_type": "markdown",
      "metadata": {
        "id": "3v_KLNUxUSei"
      },
      "source": [
        "50th percentile of IMDb is 7.3 , filling rest with the same"
      ]
    },
    {
      "cell_type": "code",
      "metadata": {
        "id": "WZuDHj3Rsug_"
      },
      "source": [
        "df['IMDb'].fillna(value = 7.3,inplace = True)\n"
      ],
      "execution_count": null,
      "outputs": []
    },
    {
      "cell_type": "markdown",
      "metadata": {
        "id": "zeeZnLXiUkJ1"
      },
      "source": [
        "1)Large number of Null Value in **'Rotten Tomatoes'**. Hence droping the column\n",
        "\n",
        "2)There is only one type of data,TV shows. Hence droping the type column"
      ]
    },
    {
      "cell_type": "code",
      "metadata": {
        "id": "ZgPKY8KAs8-0"
      },
      "source": [
        "df.drop('Rotten Tomatoes', axis = 1,inplace=True)\n"
      ],
      "execution_count": null,
      "outputs": []
    },
    {
      "cell_type": "code",
      "metadata": {
        "id": "oM_3U0T_TIJg"
      },
      "source": [
        "df.drop('type',axis = 1, inplace = True)"
      ],
      "execution_count": null,
      "outputs": []
    },
    {
      "cell_type": "markdown",
      "metadata": {
        "id": "47TeonOJVfPt"
      },
      "source": [
        "# Overview of the Data"
      ]
    },
    {
      "cell_type": "code",
      "metadata": {
        "id": "aM3DDf6AtyOW"
      },
      "source": [
        "df.info()"
      ],
      "execution_count": null,
      "outputs": []
    },
    {
      "cell_type": "code",
      "metadata": {
        "id": "IOK0hwD9t3R3"
      },
      "source": [
        "df.describe()"
      ],
      "execution_count": null,
      "outputs": []
    },
    {
      "cell_type": "markdown",
      "metadata": {
        "id": "uDo82OxHVlVC"
      },
      "source": [
        "**Observations**\n",
        "\n",
        "1) This dataset contain TV shows from 1901 to 2020\n",
        "\n",
        "2) Highest IMDb rated TV show is 9.6 and 1.0 as the lowest\n",
        "\n",
        "3) 38.21% TV Shows are in Prime Videos \n"
      ]
    },
    {
      "cell_type": "markdown",
      "metadata": {
        "id": "4yL1eAPMW4Xt"
      },
      "source": [
        "# **Analytical Approach : A Detailed data analysis**"
      ]
    },
    {
      "cell_type": "code",
      "metadata": {
        "id": "XlpRDh2Hpynx"
      },
      "source": [
        "import matplotlib\n",
        "\n",
        "sns.set_style('dark')\n",
        "matplotlib.rcParams['font.size'] = 14\n",
        "matplotlib.rcParams['figure.figsize'] = (9, 5)\n",
        "matplotlib.rcParams['figure.facecolor'] = '#00000000'"
      ],
      "execution_count": null,
      "outputs": []
    },
    {
      "cell_type": "code",
      "metadata": {
        "id": "mGrdFZhM5lcw"
      },
      "source": [
        "sns.distplot(df['Year'])"
      ],
      "execution_count": null,
      "outputs": []
    },
    {
      "cell_type": "markdown",
      "metadata": {
        "id": "jiz5jJcdXcN4"
      },
      "source": [
        "**Observation**\n",
        "\n",
        "By the beginning of the 21th century there is a trendomous\n"
      ]
    },
    {
      "cell_type": "code",
      "metadata": {
        "id": "G_k64P4YjE_U"
      },
      "source": [
        "top_imdb_rated = df[['Title','IMDb']]\n",
        "top_imdb_rated = top_imdb_rated.sort_values(by = 'IMDb',ascending=False)[:10]\n",
        "top_imdb_rated"
      ],
      "execution_count": null,
      "outputs": []
    },
    {
      "cell_type": "code",
      "metadata": {
        "id": "5p6eiLXop7r2"
      },
      "source": [
        "sns.barplot(x='IMDb', y = 'Title',data = top_imdb_rated)"
      ],
      "execution_count": null,
      "outputs": []
    },
    {
      "cell_type": "code",
      "metadata": {
        "id": "yb_IWJePeNa4"
      },
      "source": [
        "xtop_imdb_rated = df[['Title','IMDb']]\n",
        "xtop_imdb_rated = xtop_imdb_rated.sort_values(by = 'IMDb', ascending = True)[:10]\n",
        "xtop_imdb_rated"
      ],
      "execution_count": null,
      "outputs": []
    },
    {
      "cell_type": "markdown",
      "metadata": {
        "id": "X2ufKkC2a29V"
      },
      "source": [
        "**Observation**\n",
        "\n",
        "1) *Destiny* is the top IMDb rated TV Show with 9.6 rating\n",
        "\n",
        "2) *Be with you* is the lowest IMDb rated TV show with 1.0 rating"
      ]
    },
    {
      "cell_type": "code",
      "metadata": {
        "id": "jgkl8id56IOO"
      },
      "source": [
        "age = df['Age'].value_counts()\n",
        "age"
      ],
      "execution_count": null,
      "outputs": []
    },
    {
      "cell_type": "code",
      "metadata": {
        "id": "r6rHcGuy7DwZ"
      },
      "source": [
        "age.plot.pie(x='Age',autopct='%1.2f%%')"
      ],
      "execution_count": null,
      "outputs": []
    },
    {
      "cell_type": "code",
      "metadata": {
        "id": "_KXPDSII9V2k"
      },
      "source": [
        "platforms = df[['Netflix', 'Hulu', 'Prime Video', 'Disney+']].apply(pd.Series.value_counts).reset_index()\n",
        "platforms = platforms.T\n",
        "platforms.drop('index',inplace=True)\n",
        "platforms"
      ],
      "execution_count": null,
      "outputs": []
    },
    {
      "cell_type": "code",
      "metadata": {
        "id": "1NrNO0B7BvLI"
      },
      "source": [
        "platforms.plot.bar()"
      ],
      "execution_count": null,
      "outputs": []
    },
    {
      "cell_type": "markdown",
      "metadata": {
        "id": "9fWGn8q1bJKm"
      },
      "source": [
        "**Observation**\n",
        "\n",
        "Large of number TV Show are present in Prime Video (as mentioned earlier). To be precise, 2144 TV Shows"
      ]
    },
    {
      "cell_type": "code",
      "metadata": {
        "id": "6NasdmVnw4Up"
      },
      "source": [
        "ratingdic = {}\n",
        "for i in ['Netflix', 'Hulu', 'Prime Video', 'Disney+']:\n",
        "  ratingdic['r_'+i] = (df[df[i]==1].IMDb.sum())/(df[df[i]==1][i].sum())\n"
      ],
      "execution_count": null,
      "outputs": []
    },
    {
      "cell_type": "code",
      "metadata": {
        "id": "du2zPLRhyvR_"
      },
      "source": [
        "rating = pd.DataFrame.from_dict(ratingdic,orient='index',columns=['Rating'])\n",
        "rating "
      ],
      "execution_count": null,
      "outputs": []
    },
    {
      "cell_type": "code",
      "metadata": {
        "id": "urkPz0SQybiq"
      },
      "source": [
        "sns.barplot(x='Rating', y =rating.index, data = rating)"
      ],
      "execution_count": null,
      "outputs": []
    },
    {
      "cell_type": "code",
      "metadata": {
        "id": "LH32srAy3LYK"
      },
      "source": [
        "rating.plot.line()"
      ],
      "execution_count": null,
      "outputs": []
    },
    {
      "cell_type": "markdown",
      "metadata": {
        "id": "-18bY0WCbpov"
      },
      "source": [
        "**Observation**\n",
        "\n",
        "Most of the TV Shows in Prime Video is highly rated by IMDb. Following the Prime Video we have the Netflix, Hulu and Disney+"
      ]
    },
    {
      "cell_type": "code",
      "metadata": {
        "id": "xltVnbKz4gtN"
      },
      "source": [
        "platform_agedict = {}\n",
        "for i in ['Netflix', 'Hulu', 'Prime Video', 'Disney+']:\n",
        "  platform_agedict['a_'+i] = df[df[i]==1].Age.value_counts()\n",
        "platform_agedict"
      ],
      "execution_count": null,
      "outputs": []
    },
    {
      "cell_type": "code",
      "metadata": {
        "id": "Y2pD63Ou4-nn"
      },
      "source": [
        "platform_age = pd.DataFrame.from_dict(platform_agedict,orient='index')\n",
        "platform_age "
      ],
      "execution_count": null,
      "outputs": []
    },
    {
      "cell_type": "code",
      "metadata": {
        "id": "fPdLuACG5cYd"
      },
      "source": [
        "platform_age.info()"
      ],
      "execution_count": null,
      "outputs": []
    },
    {
      "cell_type": "code",
      "metadata": {
        "id": "Htl8QtCM5f3D"
      },
      "source": [
        "platform_age.fillna(0,inplace = True)\n",
        "platform_age"
      ],
      "execution_count": null,
      "outputs": []
    },
    {
      "cell_type": "code",
      "metadata": {
        "id": "d4--q6cB6TIU"
      },
      "source": [
        "platform_age.plot.bar()"
      ],
      "execution_count": null,
      "outputs": []
    },
    {
      "cell_type": "code",
      "metadata": {
        "id": "hKZp22Sd73iq"
      },
      "source": [
        "fig = plt.figure()\n",
        "\n",
        "\n",
        "ax1 = fig.add_axes([0, 0, 0.5, 0.5], aspect = 1)\n",
        "ax1.set_title('Age of Disney+')\n",
        "ax1.pie(platform_aget['a_Disney+'], labels = platform_aget.index,autopct='%1.1f%%')\n",
        "\n",
        "ax2 = fig.add_axes([0.3, 0, 0.5, 0.5], aspect = 1)\n",
        "ax2.set_title('Age of Hulu')\n",
        "ax2.pie(platform_aget['a_Hulu'], labels = platform_aget.index,autopct='%1.1f%%')\n",
        "\n",
        "ax3 = fig.add_axes([0.6, 0, 0.5, 0.5], aspect = 1)\n",
        "ax3.set_title('Age of Netflix')\n",
        "ax3.pie(platform_aget['a_Netflix'], labels = platform_aget.index,autopct='%1.1f%%')\n",
        "\n",
        "ax4 = fig.add_axes([0.9, 0, 0.5, 0.5], aspect = 1)\n",
        "ax4.set_title('Age of Prime Video')\n",
        "ax4.pie(platform_aget['a_Prime Video'], labels = platform_aget.index,autopct='%1.1f%%')"
      ],
      "execution_count": null,
      "outputs": []
    },
    {
      "cell_type": "markdown",
      "metadata": {
        "id": "TMcmhL2YclTK"
      },
      "source": [
        "**Observation**\n",
        "\n",
        "1) Most of the TV Shows of Disney+ is accessible to all age, hence good platform for kids\n",
        "\n",
        "2) Hulu is a good streaming platform for children above the age of 7\n",
        "\n",
        "3) While as Netflix and Prime Video are adult contents "
      ]
    },
    {
      "cell_type": "code",
      "metadata": {
        "id": "A83f536vH7H_"
      },
      "source": [
        "yearwise = {}\n",
        "for i in ['Netflix', 'Hulu', 'Prime Video', 'Disney+']:  \n",
        "  yearwise[i+'_year'] = df[df[i] == 1]['Year'].value_counts()\n",
        "\n",
        "dfyearwise = pd.DataFrame.from_dict(yearwise,orient='index')\n",
        "dfyearwise = dfyearwise.T"
      ],
      "execution_count": null,
      "outputs": []
    },
    {
      "cell_type": "code",
      "metadata": {
        "id": "82pcmpPMRI2e"
      },
      "source": [
        "dfyearwise.fillna(0,inplace = True)\n",
        "dfyearwise.info()"
      ],
      "execution_count": null,
      "outputs": []
    },
    {
      "cell_type": "code",
      "metadata": {
        "id": "uDIPSIz9QoTO"
      },
      "source": [
        "dfyearwise"
      ],
      "execution_count": null,
      "outputs": []
    },
    {
      "cell_type": "code",
      "metadata": {
        "id": "woHlQwQ1byxL"
      },
      "source": [
        "dfyearwise['Netflix_year'].max()"
      ],
      "execution_count": null,
      "outputs": []
    },
    {
      "cell_type": "code",
      "metadata": {
        "id": "-Cw6M96Eb75w"
      },
      "source": [
        "dfyearwise['Hulu_year'].max()"
      ],
      "execution_count": null,
      "outputs": []
    },
    {
      "cell_type": "code",
      "metadata": {
        "id": "ZWC3L3cib_yU"
      },
      "source": [
        "dfyearwise['Prime Video_year'].max()"
      ],
      "execution_count": null,
      "outputs": []
    },
    {
      "cell_type": "code",
      "metadata": {
        "id": "4Njn5YqtPaRm"
      },
      "source": [
        "dfyearwise['Disney+_year'].max()"
      ],
      "execution_count": null,
      "outputs": []
    },
    {
      "cell_type": "markdown",
      "metadata": {
        "id": "cYI4sNPAftVe"
      },
      "source": [
        "**Observation**\n",
        "\n",
        "1) In single year large of TV Shows relase in Prime Video. Following the Prime Video there are Netflix.\n",
        "\n",
        "2) In term of new relase Hulu and Disney+ shows a poor performance."
      ]
    },
    {
      "cell_type": "markdown",
      "metadata": {
        "id": "7w9Rg5yZgVuR"
      },
      "source": [
        "# **Conclusion**\n",
        "1) In the given dataset there is data about TV Shows from 1901 to 2020, where we can see a tremendous increase in the number of TV shows by beginning of 21st century\n",
        "\n",
        "2) Prime Video is the most rated streaming platform, which streams adult contents(16+ to be correct) the more, and some kids contents too.\n",
        "\n",
        "3) Following Prime Video, Netflix is the 2nd most rated , most of the TV shows in Netflix are also adult contents but few are accessible to everyone\n",
        "\n",
        "4) Hulu is an average rated streaming platform, which streams kids TV shows\n",
        "\n",
        "5) Disney+ is a poor rated streaming platform, which streams more contents accessible to everyone.\n",
        "\n",
        "In short, all the streaming platforms have pros and concs, but most of the public supported TV shows are streamed by Prime Video"
      ]
    }
  ]
}